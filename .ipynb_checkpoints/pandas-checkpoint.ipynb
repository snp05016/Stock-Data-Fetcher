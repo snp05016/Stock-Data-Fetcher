{
 "cells": [
  {
   "cell_type": "code",
   "execution_count": 2,
   "metadata": {},
   "outputs": [
    {
     "ename": "ModuleNotFoundError",
     "evalue": "No module named 'pandas'",
     "output_type": "error",
     "traceback": [
      "\u001b[1;31m---------------------------------------------------------------------------\u001b[0m",
      "\u001b[1;31mModuleNotFoundError\u001b[0m                       Traceback (most recent call last)",
      "Cell \u001b[1;32mIn[2], line 1\u001b[0m\n\u001b[1;32m----> 1\u001b[0m \u001b[38;5;28;01mimport\u001b[39;00m \u001b[38;5;21;01mpandas\u001b[39;00m \u001b[38;5;28;01mas\u001b[39;00m \u001b[38;5;21;01mpd\u001b[39;00m\n\u001b[0;32m      2\u001b[0m df_xlsx \u001b[38;5;241m=\u001b[39m pd\u001b[38;5;241m.\u001b[39mread_excel(\u001b[38;5;124m\"\u001b[39m\u001b[38;5;124mBook2.xlsx\u001b[39m\u001b[38;5;124m\"\u001b[39m)\n\u001b[0;32m      3\u001b[0m list_of_stocks \u001b[38;5;241m=\u001b[39m [i \u001b[38;5;28;01mfor\u001b[39;00m i \u001b[38;5;129;01min\u001b[39;00m df_xlsx[\u001b[38;5;124m\"\u001b[39m\u001b[38;5;124mEXCHANGE CODE: TICKER\u001b[39m\u001b[38;5;124m\"\u001b[39m] ]\n",
      "\u001b[1;31mModuleNotFoundError\u001b[0m: No module named 'pandas'"
     ]
    }
   ],
   "source": [
    "import pandas as pd\n",
    "df_xlsx = pd.read_excel(\"Book2.xlsx\")\n",
    "list_of_stocks = [i for i in df_xlsx[\"EXCHANGE CODE: TICKER\"] ]\n",
    "buy_sell = [i for i in df_xlsx[\"TYPE\"] ]\n",
    "#print(buy_sell)\n",
    "quantity_of_stocks = [ quantity for quantity in df_xlsx[\"UNITS\"]]\n",
    "#print(quantity_of_stocks)\n",
    "type_quant = [list(item) for item in zip(quantity_of_stocks,buy_sell)]\n",
    "#print(type_quant)\n",
    "dict_of_stock_quantity = dict(zip(list_of_stocks,type_quant))\n",
    "#dict_of_stocks = {}\n",
    "#for i in list_of_stocks:\n",
    "#    if i in dict_of_stocks:\n",
    "#        dict_of_stocks[i] +=1\n",
    "#    else:\n",
    "#        dict_of_stocks[i] =1\n",
    "#print(dict_of_stocks)    \n",
    "print(dict_of_stock_quantity)\n",
    "final_dict = {}\n",
    "\n",
    "# Iterate through the dictionary of stock quantities\n",
    "for stock_name, (quantity, action) in dict_of_stock_quantity.items():\n",
    "    action = action.lower()  # Make action case-insensitive\n",
    "    \n",
    "    if stock_name not in final_dict:\n",
    "        final_dict[stock_name] = 0  # Initialize with 0 if not already in the dictionary\n",
    "    \n",
    "    if action == 'buy':\n",
    "        final_dict[stock_name] += quantity  # Add quantity if it's a buy action\n",
    "    elif action == 'sell':\n",
    "        final_dict[stock_name] -= quantity  # Subtract quantity if it's a sell action\n",
    "\n",
    "#print(final_dict)\n",
    "\n"
   ]
  },
  {
   "cell_type": "code",
   "execution_count": 32,
   "metadata": {},
   "outputs": [
    {
     "name": "stdout",
     "output_type": "stream",
     "text": [
      "Index(['#', 'Name', 'Type 1', 'Type 2', 'HP', 'Attack', 'Defense', 'Sp. Atk',\n",
      "       'Sp. Def', 'Speed', 'Generation', 'Legendary'],\n",
      "      dtype='object')\n"
     ]
    }
   ],
   "source": [
    "df_poke = pd.read_excel(\"pokemon_data.xlsx\")\n",
    "print(df_poke.columns)"
   ]
  },
  {
   "cell_type": "code",
   "execution_count": null,
   "metadata": {},
   "outputs": [],
   "source": []
  }
 ],
 "metadata": {
  "kernelspec": {
   "display_name": "Python 3 (ipykernel)",
   "language": "python",
   "name": "python3"
  },
  "language_info": {
   "codemirror_mode": {
    "name": "ipython",
    "version": 3
   },
   "file_extension": ".py",
   "mimetype": "text/x-python",
   "name": "python",
   "nbconvert_exporter": "python",
   "pygments_lexer": "ipython3",
   "version": "3.12.5"
  }
 },
 "nbformat": 4,
 "nbformat_minor": 4
}
