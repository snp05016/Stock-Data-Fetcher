{
 "cells": [
  {
   "cell_type": "code",
   "execution_count": 1,
   "metadata": {},
   "outputs": [
    {
     "name": "stdout",
     "output_type": "stream",
     "text": [
      "{'NSE:DCMSHRIRAM': [10.7, 'Sell'], 'NSE:HINDUNILVR': [8.0, 'Sell'], 'NSE:ABBOTINDIA': [0.4, 'Buy'], 'NSE:ATUL': [2.0, 'Sell'], 'NSE:VSTIND': [2.8, 'Sell'], 'NSE:HONAUT': [0.4, 'Sell'], 'NSE:PFIZER': [3.2, 'Sell'], 'NSE:VAIBHAVGBL': [36.5, 'Sell'], 'NSE:VINATIORGA': [7.0, 'Sell'], 'NSE:JKPAPER': [45.0, 'Sell'], 'NSE:AKZOINDIA': [3.6, 'Sell'], 'NSE:VGUARD': [27.0, 'Sell'], 'NSE:IPCALAB': [12.0, 'Sell'], 'NSE:AARTIIND': [22.0, 'Sell'], 'NSE:THANGAMAYL': [16.0, 'Sell'], 'NSE:ALKYLAMINE': [10.5, 'Sell'], 'NSE:ALKEM': [5.0, 'Sell'], 'NSE:MPHASIS': [8.0, 'Sell'], 'NSE:ICICIGI': [7.0, 'Sell'], 'NSE:POLYMED': [7.0, 'Sell'], 'NSE:JKCEMENT': [4.6, 'Sell'], 'NSE:LUXIND': [3.8, 'Sell'], 'NSE:RELAXO': [8.5, 'Sell'], 'NSE:SUPREMEIND': [6.0, 'Sell'], 'NSE:KPRMILL': [35.0, 'Sell'], 'NSE:PGHH': [1.06, 'Sell'], 'NSE:BSOFT': [22.5, 'Sell'], 'NSE:SUNTV': [13.5, 'Sell'], 'NSE:KIMS': [5.82, 'Sell'], 'NSE:CCL': [25.8, 'Sell'], 'NSE:HGINFRA': [18.2, 'Sell'], 'NSE:GRSE': [27.3, 'Sell'], 'NSE:MAZDOCK': [37.3, 'Sell'], 'NSE:SCHAEFFLER': [8.0, 'Sell'], 'NSE:SOTL': [29.2, 'Sell'], 'NSE:IRCON': [245.0, 'Sell'], 'NSE:NAVA': [54.0, 'Sell'], 'NSE:BBTC': [14.08, 'Sell'], 'NSE:KDDL': [6.8, 'Sell'], 'NSE:ELGIEQUIP': [23.5, 'Sell'], 'NSE:NH': [18.9, 'Sell'], 'NSE:AETHER': [17.15, 'Sell'], 'NSE:BANKBARODA': [84.51, 'Sell'], 'NSE:BIKAJI': [4.36, 'Sell'], 'NSE:DLF': [29.86, 'Sell'], 'NSE:KANSAINER': [56.8, 'Sell'], 'NSE:MSUMI': [26.66, 'Sell'], 'NSE:WIPRO': [8.39, 'Sell'], 'NSE:MAYURUNIQ': [3.85, 'Sell'], 'NSE:PRAJIND': [5.44, 'Sell'], 'NSE:METROPOLIS': [1.81, 'Sell'], 'NSE:CYIENT': [7.3, 'Sell'], 'NSE:DIXON': [2.96, 'Sell'], 'NSE:YASHO': [1.81, 'Buy'], 'NSE:FEDERALBNK': [72.8, 'Sell'], 'NSE:HEROMOTOCO': [4.74, 'Sell'], 'NSE:YESBANK': [218.75, 'Sell'], 'NSE:CENTURYPLY': [21.42, 'Buy'], 'NSE:BAJEL': [4.39, 'Sell'], 'NSE:HCLTECH': [1.76, 'Sell'], 'NSE:SRF': [1.56, 'Sell'], 'NSE:WABAG': [0.91, 'Sell'], 'NSE:IEX': [92.52, 'Buy'], 'NSE:KSCL': [2.27, 'Buy'], 'NSE:HAVELLS': [15.42, 'Buy'], 'NSE:APOLLOHOSP': [3.6, 'Buy'], 'NSE:ULTRACEMCO': [1.05, 'Buy'], 'NSE:MARUTI': [1.08, 'Buy'], 'NSE:ASHOKLEY': [39.15, 'Buy'], 'NSE:SBIN': [7.73, 'Buy']}\n"
     ]
    }
   ],
   "source": [
    "import pandas as pd\n",
    "df_xlsx = pd.read_excel(\"Book2.xlsx\")\n",
    "list_of_stocks = [i for i in df_xlsx[\"EXCHANGE CODE: TICKER\"] ]\n",
    "buy_sell = [i for i in df_xlsx[\"TYPE\"] ]\n",
    "#print(buy_sell)\n",
    "quantity_of_stocks = [ quantity for quantity in df_xlsx[\"UNITS\"]]\n",
    "#print(quantity_of_stocks)\n",
    "type_quant = [list(item) for item in zip(quantity_of_stocks,buy_sell)]\n",
    "#print(type_quant)\n",
    "dict_of_stock_quantity = dict(zip(list_of_stocks,type_quant))\n",
    "#dict_of_stocks = {}\n",
    "#for i in list_of_stocks:\n",
    "#    if i in dict_of_stocks:\n",
    "#        dict_of_stocks[i] +=1\n",
    "#    else:\n",
    "#        dict_of_stocks[i] =1\n",
    "#print(dict_of_stocks)    \n",
    "print(dict_of_stock_quantity)\n",
    "final_dict = {}\n",
    "\n",
    "# Iterate through the dictionary of stock quantities\n",
    "for stock_name, (quantity, action) in dict_of_stock_quantity.items():\n",
    "    action = action.lower()  # Make action case-insensitive\n",
    "    \n",
    "    if stock_name not in final_dict:\n",
    "        final_dict[stock_name] = 0  # Initialize with 0 if not already in the dictionary\n",
    "    \n",
    "    if action == 'buy':\n",
    "        final_dict[stock_name] += quantity  # Add quantity if it's a buy action\n",
    "    elif action == 'sell':\n",
    "        final_dict[stock_name] -= quantity  # Subtract quantity if it's a sell action\n",
    "\n",
    "#print(final_dict)\n",
    "\n"
   ]
  },
  {
   "cell_type": "code",
   "execution_count": 32,
   "metadata": {},
   "outputs": [
    {
     "name": "stdout",
     "output_type": "stream",
     "text": [
      "Index(['#', 'Name', 'Type 1', 'Type 2', 'HP', 'Attack', 'Defense', 'Sp. Atk',\n",
      "       'Sp. Def', 'Speed', 'Generation', 'Legendary'],\n",
      "      dtype='object')\n"
     ]
    }
   ],
   "source": [
    "df_poke = pd.read_excel(\"pokemon_data.xlsx\")\n",
    "print(df_poke.columns)"
   ]
  },
  {
   "cell_type": "code",
   "execution_count": null,
   "metadata": {},
   "outputs": [],
   "source": []
  }
 ],
 "metadata": {
  "kernelspec": {
   "display_name": "Python 3 (ipykernel)",
   "language": "python",
   "name": "python3"
  },
  "language_info": {
   "codemirror_mode": {
    "name": "ipython",
    "version": 3
   },
   "file_extension": ".py",
   "mimetype": "text/x-python",
   "name": "python",
   "nbconvert_exporter": "python",
   "pygments_lexer": "ipython3",
   "version": "3.12.4"
  }
 },
 "nbformat": 4,
 "nbformat_minor": 4
}
