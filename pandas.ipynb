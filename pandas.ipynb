{
 "cells": [
  {
   "cell_type": "code",
   "execution_count": 82,
   "metadata": {
    "scrolled": true
   },
   "outputs": [
    {
     "name": "stdout",
     "output_type": "stream",
     "text": [
      "{'NSE:AARTIIND': [0, 734.65, 0.0, 0, 0], 'NSE:ABBOTINDIA': [0, 26980.65, -35865.48, 18346.84, -66.16], 'NSE:AETHER': [0, 880.7, -0.0, 0, 0], 'NSE:AKZOINDIA': [0, 3312.45, 0.0, 0, 0], 'NSE:ALKEM': [0, 5714.85, 0.0, 0, 0], 'NSE:ALKYLAMINE': [0, 2056.3, 0.0, 0, 0], 'NSE:ATUL': [0, 7861.05, 0.0, 0, 0], 'NSE:BAJEL': [46.35, 279.3, 2192.36, 12945.55, 20.39], 'NSE:BANKBARODA': [0, 244.85, 0.0, 0, 0], 'NSE:BBTC': [0, 2310.1, -6.93, -11.55, 0], 'NSE:BIKAJI': [30.16, 861.85, -30730.93, 25993.4, -54.18], 'NSE:BSOFT': [0, 587.3, 0.0, 0, 0], 'NSE:CCL': [0, 654.6, 0.0, 0, 0], 'NSE:CYIENT': [0, 1665.05, 0.0, 0, 0], 'NSE:DCMSHRIRAM': [0, 1135.05, 0.0, 0, 0], 'NSE:DIXON': [0, 11664.25, 0.0, 0, 0], 'NSE:DLF': [0, 835.45, -0.0, 0, 0], 'NSE:ELGIEQUIP': [0, 621.1, 0.0, 0, 0], 'NSE:FEDERALBNK': [0, 201.24, 0.0, 0, 0], 'NSE:GRSE': [0, 2009.15, 0.0, 0, 0], 'NSE:HCLTECH': [14.04, 1585.25, -41231.97, 22256.91, -64.94], 'NSE:HEROMOTOCO': [0, 5311.85, 0.0, 0, 0], 'NSE:HGINFRA': [0, 1609.95, 0.0, 0, 0], 'NSE:HINDUNILVR': [0, 2748.7, 0.0, 0, 0], 'NSE:HONAUT': [0, 51007.35, 0.0, 0, 0], 'NSE:ICICIGI': [0, 1951.45, 0.0, 0, 0], 'NSE:IPCALAB': [0, 1381.95, 0.0, 0, 0], 'NSE:IRCON': [0, 272.1, 0.0, 0, 0], 'NSE:JKCEMENT': [0, 4236.75, 0.0, 0, 0], 'NSE:JKPAPER': [0, 489.95, 0.0, 0, 0], 'NSE:KANSAINER': [0, 295.55, -0.0, 0, 0], 'NSE:KDDL': [0, 3562.2, 0.0, 0, 0], 'NSE:KIMS': [0, 2245.6, 0.0, 0, 0], 'NSE:KPRMILL': [0, 890.35, 0.0, 0, 0], 'NSE:LUXIND': [0, 2329.95, 0.0, 0, 0], 'NSE:MAYURUNIQ': [24.32, 668.65, 3542.21, 16261.57, 27.85], 'NSE:MAZDOCK': [0, 4962.15, 0.0, 0, 0], 'NSE:METROPOLIS': [7.13, 2038.65, -17122.34, 14535.57, -54.09], 'NSE:MPHASIS': [0, 2702.9, 0.0, 0, 0], 'NSE:MSUMI': [257.97, 71.46, -43163.54, 18434.54, -70.07], 'NSE:NAVA': [0, 924.55, 0.0, 0, 0], 'NSE:NH': [0, 1210.0, 0.0, 0, 0], 'NSE:PFIZER': [0, 5827.25, 0.0, 0, 0], 'NSE:PGHH': [0, 17070.1, 0.0, 0, 0], 'NSE:POLYMED': [0, 1926.45, 0.0, 0, 0], 'NSE:PRAJIND': [20.76, 706.8, 5704.85, 14673.17, 63.61], 'NSE:RELAXO': [0, 815.65, -0.0, 0, 0], 'NSE:SCHAEFFLER': [0, 4026.5, 0.0, 0, 0], 'NSE:SOTL': [0, 577.0, 0.0, 0, 0], 'NSE:SRF': [6.22, 2568.5, -600.23, 15976.07, -3.62], 'NSE:SUNTV': [0, 818.8, 0.0, 0, 0], 'NSE:SUPREMEIND': [0, 5111.6, 0.0, 0, 0], 'NSE:THANGAMAYL': [0, 1762.0, 0.0, 0, 0], 'NSE:VAIBHAVGBL': [0, 298.75, 0.0, 0, 0], 'NSE:VGUARD': [0, 503.25, 0.0, 0, 0], 'NSE:VINATIORGA': [0, 2107.6, 0.0, 0, 0], 'NSE:VSTIND': [0, 4141.85, 0.0, 0, 0], 'NSE:WABAG': [8.31, 1323.95, 4212.75, 11002.02, 62.05], 'NSE:WIPRO': [29.22, 489.05, -33243.59, 14290.04, -69.94], 'NSE:YESBANK': [608.24, 24.42, -10267.09, 14853.22, -40.87]}\n",
      "60\n"
     ]
    }
   ],
   "source": [
    "import pandas as pd\n",
    "from fpdf import FPDF\n",
    "import yfinance as yf\n",
    "\n",
    "# Load the Excel file\n",
    "df_xlsx = pd.read_excel(\"Book2.xlsx\")\n",
    "\n",
    "# Filter buy and sell data\n",
    "data_for_buy = df_xlsx[df_xlsx['TYPE'] == 'Buy']\n",
    "data_for_sell = df_xlsx[df_xlsx['TYPE'] == 'Sell']\n",
    "\n",
    "# Summarize the quantities by ticker\n",
    "buy_summary = data_for_buy.groupby('EXCHANGE CODE: TICKER')['UNITS'].sum().to_dict()\n",
    "sell_summary = data_for_sell.groupby('EXCHANGE CODE: TICKER')['UNITS'].sum().to_dict()\n",
    "buy_price_dict = data_for_buy.groupby('EXCHANGE CODE: TICKER')['PRICE'].sum().to_dict()\n",
    "\n",
    "# Function to fetch the current stock price using yfinance for Indian stocks\n",
    "def get_stock_price(ticker):\n",
    "    try:\n",
    "        # Assuming NSE symbols, append '.NS' to the ticker. Adjust if using BSE.\n",
    "        stock = yf.Ticker(f\"{ticker[4:]}.NS\")  # Use '.BO' for BSE\n",
    "        price = stock.history(period=\"1d\")['Close'].iloc[-1]  # Get the latest closing price\n",
    "        return round(float(price), 2)\n",
    "    except Exception as e:\n",
    "        print(f\"Error fetching price for {ticker[4:]}: {e}\")\n",
    "        return None\n",
    "\n",
    "# Calculate the remaining stock and get the current price\n",
    "result = {}\n",
    "for key in sell_summary:\n",
    "    buy_quantity = buy_summary.get(key, 0)\n",
    "    sell_quantity = sell_summary[key]\n",
    "    remaining_quantity = buy_quantity - sell_quantity\n",
    "    buy_price = buy_price_dict.get(key, 0)\n",
    "    current_price = get_stock_price(key)\n",
    "    \n",
    "    if current_price is not None:\n",
    "        unrealized_profit = (current_price - buy_price) * remaining_quantity\n",
    "        current_value = round(remaining_quantity * current_price, 2)\n",
    "        total_cost_of_remaining_shares = buy_price * remaining_quantity\n",
    "        profit_percentage = (unrealized_profit / total_cost_of_remaining_shares) * 100 if total_cost_of_remaining_shares > 0 else 0\n",
    "        if int(current_value) == -0:\n",
    "            current_value = 0 \n",
    "        if int(remaining_quantity)==-0:\n",
    "            remaining_quantity = 0\n",
    "        if int(unrealized_profit) == -0:\n",
    "            current_value = 0 \n",
    "        if int(profit_percentage)==-0:\n",
    "            remaining_quantity = 0\n",
    "        result[key] = [\n",
    "            round(remaining_quantity, 2),  # Remaining quantity\n",
    "            current_price,  # Current price of the stock\n",
    "            round(unrealized_profit, 2),  # Unrealized profit\n",
    "            current_value,  # Current value of the portfolio/investment\n",
    "            round(profit_percentage, 2)  # Profit percentage\n",
    "        ]\n",
    "\n",
    "# Print the result\n",
    "print(result)\n",
    "print(len(result.keys()))"
   ]
  },
  {
   "cell_type": "code",
   "execution_count": 83,
   "metadata": {},
   "outputs": [
    {
     "name": "stdout",
     "output_type": "stream",
     "text": [
      "PDF created successfully.\n"
     ]
    }
   ],
   "source": [
    "pdf = FPDF()\n",
    "pdf.set_auto_page_break(auto=True, margin=0)\n",
    "pdf.add_page()\n",
    "\n",
    "# Add a background color for the title\n",
    "pdf.set_fill_color(200, 220, 255)\n",
    "pdf.set_font(\"Arial\", \"B\", 18)\n",
    "pdf.cell(0, 12, txt=\"Stock Portfolio Summary\", ln=True, align=\"C\", fill=True)\n",
    "pdf.ln(10)\n",
    "pdf.set_right_margin(40)\n",
    "# Set column headers with a background color and border\n",
    "pdf.set_fill_color(169, 169, 169)  # Dark gray\n",
    "pdf.set_text_color(255, 255, 255)  # White text for headers\n",
    "pdf.set_font(\"Arial\", \"B\", 12)\n",
    "pdf.cell(38, 10, txt=\"Stock\", border=1, align=\"C\", fill=True)\n",
    "pdf.cell(38, 10, txt=\"Total Quantities\", border=1, align=\"C\", fill=True)\n",
    "pdf.cell(28, 10, txt=\"Current Price\", border=1, align=\"C\", fill=True)\n",
    "pdf.cell(28, 10, txt=\"Profit/Loss\", border=1, align=\"C\", fill=True)\n",
    "pdf.cell(28, 10, txt=\"Profit/Loss%\", border=1, align=\"C\", fill=True)\n",
    "pdf.cell(38, 10, txt=\"Current Value\", border=1, align=\"C\", fill=True)\n",
    "pdf.ln()\n",
    "\n",
    "# Add data rows\n",
    "pdf.set_font(\"Arial\", \"\", 12)\n",
    "pdf.set_text_color(0, 0, 0)  # Black text for data\n",
    "\n",
    "for idx, (key, value) in enumerate(result.items()):\n",
    "    # Alternate row background color for better readability\n",
    "    if idx % 2 == 0:\n",
    "        pdf.set_fill_color(245, 245, 245)  # Light gray\n",
    "        fill = True\n",
    "    else:\n",
    "        fill = False\n",
    "\n",
    "    # Add stock name and quantities\n",
    "    pdf.cell(38, 10, txt=key[4:], border=1, align=\"C\", fill=fill)  # Stock name without the exchange prefix\n",
    "    pdf.cell(38, 10, txt=str(value[0]), border=1, align=\"C\", fill=fill)  # Total quantities\n",
    "    \n",
    "    # Add current price\n",
    "    pdf.cell(28, 10, txt=str(value[1]), border=1, align=\"C\", fill=fill)  # Current price\n",
    "\n",
    "    # Add profit with color coding\n",
    "    if value[2] == 0:\n",
    "        pdf.set_text_color(0, 128, 0)  # Green for profit\n",
    "    else:\n",
    "        pdf.set_text_color(255, 0, 0)  # Red for loss\n",
    "    pdf.cell(28, 10, txt=str(value[2]), border=1, align=\"C\", fill=fill)  # Profit\n",
    "    pdf.set_text_color(0, 0, 0)  # Reset text color to black\n",
    "    \n",
    "    \n",
    "    # Add profit percentage and current value\n",
    "    pdf.cell(28, 10, txt=str(value[4]) + '%', border=1, align=\"C\", fill=fill)  # Profit percentage\n",
    "    pdf.cell(38, 10, txt=str(value[3]), border=1, align=\"C\", fill=fill)  # Current value\n",
    "    pdf.ln()\n",
    "\n",
    "# Add a footer\n",
    "pdf.set_y(-15)\n",
    "pdf.set_font(\"Arial\", \"I\", 8)\n",
    "pdf.set_text_color(128, 128, 128)\n",
    "pdf.cell(0, 10, txt=\"End of Report\", align=\"C\")\n",
    "\n",
    "# Save the PDF to a file\n",
    "pdf.output(\"stock_portfolio_summary.pdf\")\n",
    "\n",
    "print(\"PDF created successfully.\")"
   ]
  },
  {
   "cell_type": "code",
   "execution_count": null,
   "metadata": {},
   "outputs": [],
   "source": []
  },
  {
   "cell_type": "code",
   "execution_count": null,
   "metadata": {},
   "outputs": [],
   "source": []
  }
 ],
 "metadata": {
  "kernelspec": {
   "display_name": "Python 3 (ipykernel)",
   "language": "python",
   "name": "python3"
  },
  "language_info": {
   "codemirror_mode": {
    "name": "ipython",
    "version": 3
   },
   "file_extension": ".py",
   "mimetype": "text/x-python",
   "name": "python",
   "nbconvert_exporter": "python",
   "pygments_lexer": "ipython3",
   "version": "3.12.4"
  }
 },
 "nbformat": 4,
 "nbformat_minor": 4
}
